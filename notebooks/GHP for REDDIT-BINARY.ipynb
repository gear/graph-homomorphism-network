{
 "cells": [
  {
   "cell_type": "code",
   "execution_count": 5,
   "metadata": {},
   "outputs": [],
   "source": [
    "import sys\n",
    "import os\n",
    "sys.path.append('..')\n",
    "from utils import load_data, nx2homg\n",
    "import networkx as nx\n",
    "import numpy as np\n",
    "from random import shuffle"
   ]
  },
  {
   "cell_type": "code",
   "execution_count": 11,
   "metadata": {},
   "outputs": [],
   "source": [
    "from homlib import hom"
   ]
  },
  {
   "cell_type": "code",
   "execution_count": 28,
   "metadata": {},
   "outputs": [],
   "source": [
    "from sklearn.model_selection import train_test_split\n",
    "from sklearn.preprocessing import Normalizer\n",
    "from sklearn import svm\n",
    "from sklearn.metrics import f1_score, accuracy_score\n",
    "from sklearn.neural_network import MLPClassifier"
   ]
  },
  {
   "cell_type": "code",
   "execution_count": 29,
   "metadata": {},
   "outputs": [],
   "source": [
    "import pickle as pkl"
   ]
  },
  {
   "cell_type": "code",
   "execution_count": 98,
   "metadata": {},
   "outputs": [],
   "source": [
    "from sklearn.preprocessing import StandardScaler"
   ]
  },
  {
   "cell_type": "markdown",
   "metadata": {},
   "source": [
    "# Load REDDIT-BINARY"
   ]
  },
  {
   "cell_type": "code",
   "execution_count": 3,
   "metadata": {},
   "outputs": [
    {
     "name": "stdout",
     "output_type": "stream",
     "text": [
      "loading data\n",
      "# classes: 2\n",
      "# maximum node tag: 1\n",
      "# data: 2000\n"
     ]
    }
   ],
   "source": [
    "reddit_graphs = load_data(\"REDDITBINARY\", degree_as_tag=False)"
   ]
  },
  {
   "cell_type": "markdown",
   "metadata": {},
   "source": [
    "# Test counting trees"
   ]
  },
  {
   "cell_type": "code",
   "execution_count": 7,
   "metadata": {},
   "outputs": [],
   "source": [
    "test_g = nx2homg(reddit_graphs[0][0].g)"
   ]
  },
  {
   "cell_type": "code",
   "execution_count": 8,
   "metadata": {},
   "outputs": [],
   "source": [
    "trees_5 = [nx2homg(f) for f in nx.generators.nonisomorphic_trees(5)]"
   ]
  },
  {
   "cell_type": "code",
   "execution_count": 9,
   "metadata": {},
   "outputs": [
    {
     "data": {
      "text/plain": [
       "3"
      ]
     },
     "execution_count": 9,
     "metadata": {},
     "output_type": "execute_result"
    }
   ],
   "source": [
    "len(trees_5)"
   ]
  },
  {
   "cell_type": "code",
   "execution_count": 11,
   "metadata": {},
   "outputs": [
    {
     "name": "stdout",
     "output_type": "stream",
     "text": [
      "CPU times: user 29.2 s, sys: 29.6 ms, total: 29.3 s\n",
      "Wall time: 29.2 s\n"
     ]
    },
    {
     "data": {
      "text/plain": [
       "([<Graph object, undirected, with 5 vertices and 4 edges at 0x7f70415f2b70>,\n",
       "  <Graph object, undirected, with 5 vertices and 4 edges at 0x7f70415f2a20>,\n",
       "  <Graph object, undirected, with 5 vertices and 4 edges at 0x7f70415f2940>],\n",
       " [10622826, 491335, 8971])"
      ]
     },
     "execution_count": 11,
     "metadata": {},
     "output_type": "execute_result"
    }
   ],
   "source": [
    "%%time\n",
    "hom(trees_5[0], test_g)"
   ]
  },
  {
   "cell_type": "code",
   "execution_count": 12,
   "metadata": {},
   "outputs": [
    {
     "name": "stdout",
     "output_type": "stream",
     "text": [
      "CPU times: user 53 ms, sys: 3.32 ms, total: 56.4 ms\n",
      "Wall time: 56.2 ms\n"
     ]
    },
    {
     "data": {
      "text/plain": [
       "2208660.0"
      ]
     },
     "execution_count": 12,
     "metadata": {},
     "output_type": "execute_result"
    }
   ],
   "source": [
    "%%time\n",
    "hom(trees_5[0], test_g)"
   ]
  },
  {
   "cell_type": "code",
   "execution_count": 13,
   "metadata": {},
   "outputs": [
    {
     "name": "stdout",
     "output_type": "stream",
     "text": [
      "CPU times: user 54 ms, sys: 28 µs, total: 54 ms\n",
      "Wall time: 53.9 ms\n"
     ]
    },
    {
     "data": {
      "text/plain": [
       "3395568.0"
      ]
     },
     "execution_count": 13,
     "metadata": {},
     "output_type": "execute_result"
    }
   ],
   "source": [
    "%%time\n",
    "hom(trees_5[1], test_g)"
   ]
  },
  {
   "cell_type": "code",
   "execution_count": 14,
   "metadata": {},
   "outputs": [
    {
     "name": "stdout",
     "output_type": "stream",
     "text": [
      "CPU times: user 53.4 ms, sys: 3 µs, total: 53.4 ms\n",
      "Wall time: 53.3 ms\n"
     ]
    },
    {
     "data": {
      "text/plain": [
       "268535990.0"
      ]
     },
     "execution_count": 14,
     "metadata": {},
     "output_type": "execute_result"
    }
   ],
   "source": [
    "%%time\n",
    "hom(trees_5[2], test_g)"
   ]
  },
  {
   "cell_type": "code",
   "execution_count": 16,
   "metadata": {},
   "outputs": [],
   "source": [
    "trees_6 = [nx2homg(f) for f in nx.generators.nonisomorphic_trees(6)]"
   ]
  },
  {
   "cell_type": "code",
   "execution_count": 17,
   "metadata": {},
   "outputs": [
    {
     "data": {
      "text/plain": [
       "6"
      ]
     },
     "execution_count": 17,
     "metadata": {},
     "output_type": "execute_result"
    }
   ],
   "source": [
    "len(trees_6)"
   ]
  },
  {
   "cell_type": "code",
   "execution_count": 19,
   "metadata": {},
   "outputs": [
    {
     "name": "stdout",
     "output_type": "stream",
     "text": [
      "7135750.0\n",
      "272452198.0\n",
      "24076378.0\n",
      "8837568.0\n",
      "420470932.0\n",
      "34360930080.0\n",
      "CPU times: user 315 ms, sys: 3.38 ms, total: 318 ms\n",
      "Wall time: 317 ms\n"
     ]
    }
   ],
   "source": [
    "%%time\n",
    "for t in trees_6:\n",
    "    print(hom(t, test_g))"
   ]
  },
  {
   "cell_type": "markdown",
   "metadata": {},
   "source": [
    "# Build Homomorphism profile"
   ]
  },
  {
   "cell_type": "code",
   "execution_count": 20,
   "metadata": {},
   "outputs": [],
   "source": [
    "trees_2 = [nx2homg(f) for f in nx.generators.nonisomorphic_trees(2)] \n",
    "trees_3 = [nx2homg(f) for f in nx.generators.nonisomorphic_trees(3)] \n",
    "trees_4 = [nx2homg(f) for f in nx.generators.nonisomorphic_trees(4)] \n",
    "trees_5 = [nx2homg(f) for f in nx.generators.nonisomorphic_trees(5)] \n",
    "trees_6 = [nx2homg(f) for f in nx.generators.nonisomorphic_trees(6)] \n",
    "trees_7 = [nx2homg(f) for f in nx.generators.nonisomorphic_trees(7)] \n",
    "trees_8 = [nx2homg(f) for f in nx.generators.nonisomorphic_trees(8)] \n",
    "trees_9 = [nx2homg(f) for f in nx.generators.nonisomorphic_trees(9)] "
   ]
  },
  {
   "cell_type": "code",
   "execution_count": 24,
   "metadata": {},
   "outputs": [],
   "source": [
    "all_trees = (*trees_2, *trees_3, *trees_4, *trees_5, *trees_6)"
   ]
  },
  {
   "cell_type": "code",
   "execution_count": 25,
   "metadata": {},
   "outputs": [
    {
     "data": {
      "text/plain": [
       "13"
      ]
     },
     "execution_count": 25,
     "metadata": {},
     "output_type": "execute_result"
    }
   ],
   "source": [
    "len(all_trees)"
   ]
  },
  {
   "cell_type": "code",
   "execution_count": 22,
   "metadata": {},
   "outputs": [
    {
     "data": {
      "text/plain": [
       "2000"
      ]
     },
     "execution_count": 22,
     "metadata": {},
     "output_type": "execute_result"
    }
   ],
   "source": [
    "len(reddit_graphs[0])"
   ]
  },
  {
   "cell_type": "code",
   "execution_count": 26,
   "metadata": {},
   "outputs": [
    {
     "name": "stdout",
     "output_type": "stream",
     "text": [
      "CPU times: user 2h 51min 8s, sys: 2min 41s, total: 2h 53min 49s\n",
      "Wall time: 2h 53min 56s\n"
     ]
    }
   ],
   "source": [
    "%%time\n",
    "# This one run in 3 hrs on a single thread\n",
    "X = []\n",
    "y = []  \n",
    "for g in reddit_graphs[0]:\n",
    "    gh = nx2homg(g.g)\n",
    "    profile = [hom(t, gh) for t in all_trees]\n",
    "    X.append(profile)\n",
    "    y.append(g.label)"
   ]
  },
  {
   "cell_type": "code",
   "execution_count": 31,
   "metadata": {},
   "outputs": [],
   "source": [
    "# Dump X so we don't have to run for Reddit again\n",
    "with open('REDDITBINARY_TREE6.pkl', 'wb') as f:\n",
    "    pkl.dump(X, f)"
   ]
  },
  {
   "cell_type": "code",
   "execution_count": 71,
   "metadata": {},
   "outputs": [],
   "source": [
    "X_train, X_test, y_train, y_test = train_test_split(X, y, test_size=0.1, random_state=10)\n",
    "normalizer = Normalizer().fit(X_train)\n",
    "X_train = normalizer.transform(X_train)\n",
    "X_test = normalizer.transform(X_test)"
   ]
  },
  {
   "cell_type": "code",
   "execution_count": 72,
   "metadata": {},
   "outputs": [
    {
     "name": "stdout",
     "output_type": "stream",
     "text": [
      "Test acc:  0.775\n",
      "CPU times: user 92.2 ms, sys: 0 ns, total: 92.2 ms\n",
      "Wall time: 91 ms\n"
     ]
    }
   ],
   "source": [
    "%%time\n",
    "clf = svm.SVC(C=1000.0, gamma=1.0)\n",
    "clf.fit(X_train, y_train)\n",
    "\n",
    "print(\"Test acc: \", f1_score(y_pred=clf.predict(X_test), y_true=y_test, average=\"micro\"))"
   ]
  },
  {
   "cell_type": "code",
   "execution_count": 87,
   "metadata": {},
   "outputs": [],
   "source": [
    "X_train, X_test, y_train, y_test = train_test_split(X, y, test_size=0.1, random_state=42)\n",
    "normalizer = Normalizer().fit(X_train)\n",
    "X_train = normalizer.transform(X_train)\n",
    "X_test = normalizer.transform(X_test)"
   ]
  },
  {
   "cell_type": "code",
   "execution_count": 96,
   "metadata": {},
   "outputs": [
    {
     "name": "stdout",
     "output_type": "stream",
     "text": [
      "Test acc:  0.785\n",
      "CPU times: user 1.44 s, sys: 6.57 ms, total: 1.45 s\n",
      "Wall time: 364 ms\n"
     ]
    }
   ],
   "source": [
    "%%time\n",
    "clf = MLPClassifier(hidden_layer_sizes=(32,32), activation='relu', \n",
    "                    solver='adam', alpha=0.000001, learning_rate='adaptive', learning_rate_init=0.03)\n",
    "clf.fit(X_train, y_train)\n",
    "print(\"Test acc: \", f1_score(y_pred=clf.predict(X_test), y_true=y_test, average=\"micro\"))"
   ]
  },
  {
   "cell_type": "markdown",
   "metadata": {},
   "source": [
    "# use scaler"
   ]
  },
  {
   "cell_type": "code",
   "execution_count": 100,
   "metadata": {},
   "outputs": [],
   "source": [
    "X_train, X_test, y_train, y_test = train_test_split(X, y, test_size=0.1, random_state=10)\n",
    "normalizer = StandardScaler().fit(X_train)\n",
    "X_train = normalizer.transform(X_train)\n",
    "X_test = normalizer.transform(X_test)"
   ]
  },
  {
   "cell_type": "code",
   "execution_count": 132,
   "metadata": {},
   "outputs": [
    {
     "name": "stdout",
     "output_type": "stream",
     "text": [
      "Test acc:  0.8146431881371641\n",
      "CPU times: user 2.5 s, sys: 13.3 ms, total: 2.51 s\n",
      "Wall time: 630 ms\n"
     ]
    }
   ],
   "source": [
    "%%time\n",
    "clf = MLPClassifier(hidden_layer_sizes=(32,16), activation='relu', \n",
    "                    solver='adam', alpha=0.00001, learning_rate='adaptive', learning_rate_init=0.03)\n",
    "clf.fit(X_train, y_train)\n",
    "print(\"Test acc: \", f1_score(y_pred=clf.predict(X_test), y_true=y_test, average=\"macro\"))"
   ]
  },
  {
   "cell_type": "markdown",
   "metadata": {},
   "source": [
    "# Run 10 fold "
   ]
  },
  {
   "cell_type": "code",
   "execution_count": 211,
   "metadata": {},
   "outputs": [
    {
     "name": "stdout",
     "output_type": "stream",
     "text": [
      "Test acc:  0 0.735\n",
      "Test acc:  1 0.78\n",
      "Test acc:  2 0.75\n",
      "Test acc:  3 0.735\n",
      "Test acc:  4 0.745\n",
      "Test acc:  5 0.82\n",
      "Test acc:  6 0.775\n",
      "Test acc:  7 0.765\n",
      "Test acc:  8 0.775\n",
      "Test acc:  9 0.715\n",
      "0.7595000000000001 0.028412145290350747\n",
      "0.7573134194172135 0.028042406101482877\n",
      "CPU times: user 7.32 s, sys: 99.9 ms, total: 7.41 s\n",
      "Wall time: 1.87 s\n"
     ]
    }
   ],
   "source": [
    "%%time\n",
    "mic = []\n",
    "mac = []\n",
    "for i in range(10):\n",
    "    seed = np.random.randint(0,1000)\n",
    "    X_train, X_test, y_train, y_test = train_test_split(X, y, test_size=0.1, random_state=seed)\n",
    "    normalizer = StandardScaler().fit(X_train)\n",
    "    X_train = normalizer.transform(X_train)\n",
    "    X_test = normalizer.transform(X_test)\n",
    "    clf = MLPClassifier(hidden_layer_sizes=(32,32), activation='relu', batch_size=64, \n",
    "                        solver='sgd', alpha=0.00001, learning_rate_init=0.01, early_stopping=True)\n",
    "    clf.fit(X_train, y_train)\n",
    "    print(\"Test acc: \", i, f1_score(y_pred=clf.predict(X_test), y_true=y_test, average=\"micro\"))\n",
    "    mic.append(f1_score(y_pred=clf.predict(X_test), y_true=y_test, average=\"micro\"))\n",
    "    mac.append(f1_score(y_pred=clf.predict(X_test), y_true=y_test, average=\"macro\"))\n",
    "print(np.mean(mic), np.std(mic))\n",
    "print(np.mean(mac), np.std(mac))"
   ]
  },
  {
   "cell_type": "code",
   "execution_count": null,
   "metadata": {},
   "outputs": [],
   "source": [
    "%%time\n",
    "mic = []\n",
    "mac = []\n",
    "for i in range(10):\n",
    "    seed = np.random.randint(0,1000)\n",
    "    X_train, X_test, y_train, y_test = train_test_split(X, y, test_size=0.1, random_state=seed)\n",
    "    normalizer = StandardScaler().fit(X_train)\n",
    "    X_train = normalizer.transform(X_train)\n",
    "    X_test = normalizer.transform(X_test)\n",
    "    clf = svm.SVC(C=400.0, gamma=50.0, kernel='poly')\n",
    "    clf.fit(X_train, y_train)\n",
    "    print(\"Test acc: \", i, f1_score(y_pred=clf.predict(X_test), y_true=y_test, average=\"micro\"))\n",
    "    mic.append(f1_score(y_pred=clf.predict(X_test), y_true=y_test, average=\"micro\"))\n",
    "    mac.append(f1_score(y_pred=clf.predict(X_test), y_true=y_test, average=\"macro\"))\n",
    "print(np.mean(mic), np.std(mic))\n",
    "print(np.mean(mac), np.std(mac))"
   ]
  },
  {
   "cell_type": "markdown",
   "metadata": {},
   "source": [
    "# K-neighbors"
   ]
  },
  {
   "cell_type": "code",
   "execution_count": 240,
   "metadata": {},
   "outputs": [],
   "source": [
    "from sklearn.neighbors import KNeighborsClassifier"
   ]
  },
  {
   "cell_type": "code",
   "execution_count": 246,
   "metadata": {},
   "outputs": [
    {
     "name": "stdout",
     "output_type": "stream",
     "text": [
      "Test acc:  0 0.855\n",
      "Test acc:  1 0.845\n",
      "Test acc:  2 0.845\n",
      "Test acc:  3 0.855\n",
      "Test acc:  4 0.795\n",
      "Test acc:  5 0.8399999999999999\n",
      "Test acc:  6 0.795\n",
      "Test acc:  7 0.835\n",
      "Test acc:  8 0.8399999999999999\n",
      "Test acc:  9 0.87\n",
      "0.8374999999999998 0.023264780248263662\n",
      "0.8366009623068489 0.02414167009872458\n",
      "CPU times: user 423 ms, sys: 67 µs, total: 423 ms\n",
      "Wall time: 419 ms\n"
     ]
    }
   ],
   "source": [
    "%%time\n",
    "mic = []\n",
    "mac = []\n",
    "for i in range(10):\n",
    "    seed = np.random.randint(0,1000)\n",
    "    X_train, X_test, y_train, y_test = train_test_split(X, y, test_size=0.1, random_state=seed)\n",
    "    normalizer = StandardScaler().fit(X_train)\n",
    "    X_train = normalizer.transform(X_train)\n",
    "    X_test = normalizer.transform(X_test)\n",
    "    clf = KNeighborsClassifier(n_neighbors=5, weights='uniform', algorithm='auto', \n",
    "                     leaf_size=30, p=8, metric='minkowski', \n",
    "                     metric_params=None, n_jobs=None)\n",
    "    clf.fit(X_train, y_train)\n",
    "    print(\"Test acc: \", i, f1_score(y_pred=clf.predict(X_test), y_true=y_test, average=\"micro\"))\n",
    "    mic.append(f1_score(y_pred=clf.predict(X_test), y_true=y_test, average=\"micro\"))\n",
    "    mac.append(f1_score(y_pred=clf.predict(X_test), y_true=y_test, average=\"macro\"))\n",
    "print(np.mean(mic), np.std(mic))\n",
    "print(np.mean(mac), np.std(mac))"
   ]
  },
  {
   "cell_type": "code",
   "execution_count": null,
   "metadata": {},
   "outputs": [],
   "source": []
  }
 ],
 "metadata": {
  "kernelspec": {
   "display_name": "Python 3",
   "language": "python",
   "name": "python3"
  },
  "language_info": {
   "codemirror_mode": {
    "name": "ipython",
    "version": 3
   },
   "file_extension": ".py",
   "mimetype": "text/x-python",
   "name": "python",
   "nbconvert_exporter": "python",
   "pygments_lexer": "ipython3",
   "version": "3.7.4"
  }
 },
 "nbformat": 4,
 "nbformat_minor": 2
}
