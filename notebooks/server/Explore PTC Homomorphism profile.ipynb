{
 "cells": [
  {
   "cell_type": "code",
   "execution_count": 12,
   "metadata": {},
   "outputs": [],
   "source": [
    "import numpy as np\n",
    "import pickle as pkl\n",
    "import sys\n",
    "sys.path.append(\"../..\")\n",
    "\n",
    "from utils import load_data, load_precompute, save_precompute\n",
    "from sklearn.model_selection import train_test_split as tts, GridSearchCV, KFold\n",
    "from sklearn.metrics import f1_score as f1, accuracy_score as acc\n",
    "from sklearn.preprocessing import StandardScaler\n",
    "from homomorphism import get_hom_profile\n",
    "\n",
    "# Not important\n",
    "try:\n",
    "    from tqdm import tqdm\n",
    "except:\n",
    "    tqdm = lambda x: x"
   ]
  },
  {
   "cell_type": "code",
   "execution_count": 2,
   "metadata": {},
   "outputs": [],
   "source": [
    "from sklearn.svm import SVC"
   ]
  },
  {
   "cell_type": "markdown",
   "metadata": {},
   "source": [
    "# Load PTC - (SOTA: ~0.646 ± 0.07)"
   ]
  },
  {
   "cell_type": "code",
   "execution_count": 3,
   "metadata": {},
   "outputs": [
    {
     "name": "stdout",
     "output_type": "stream",
     "text": [
      "loading data\n",
      "# classes: 2\n",
      "# maximum node tag: 19\n",
      "# data: 344\n"
     ]
    }
   ],
   "source": [
    "ptc, nclass = load_data(\"PTC\", False)"
   ]
  },
  {
   "cell_type": "code",
   "execution_count": 4,
   "metadata": {},
   "outputs": [],
   "source": [
    "y = np.array([d.label for d in ptc])\n",
    "node_features = [d.node_features.numpy() for d in ptc]"
   ]
  },
  {
   "cell_type": "code",
   "execution_count": 5,
   "metadata": {},
   "outputs": [],
   "source": [
    "hom_type = \"tree\"\n",
    "hom_size = 6\n",
    "try:\n",
    "    X = load_precompute(\"PTC\", hom_type, hom_size)\n",
    "except:\n",
    "    X = []\n",
    "    profile_func = get_hom_profile(hom_type)\n",
    "    for d in tqdm(ptc):\n",
    "        profile = profile_func(d.g, size=hom_size)\n",
    "        X.append(profile)\n",
    "    X = np.array(X, dtype=float)"
   ]
  },
  {
   "cell_type": "code",
   "execution_count": 6,
   "metadata": {},
   "outputs": [],
   "source": [
    "Xf = np.concatenate((X, np.array([d.node_features.sum(0).numpy() for d in ptc])), axis=1)"
   ]
  },
  {
   "cell_type": "code",
   "execution_count": 7,
   "metadata": {},
   "outputs": [
    {
     "data": {
      "text/plain": [
       "(344, 32)"
      ]
     },
     "execution_count": 7,
     "metadata": {},
     "output_type": "execute_result"
    }
   ],
   "source": [
    "Xf.shape"
   ]
  },
  {
   "cell_type": "code",
   "execution_count": 8,
   "metadata": {},
   "outputs": [
    {
     "data": {
      "text/plain": [
       "(344, 13)"
      ]
     },
     "execution_count": 8,
     "metadata": {},
     "output_type": "execute_result"
    }
   ],
   "source": [
    "X.shape"
   ]
  },
  {
   "cell_type": "code",
   "execution_count": 9,
   "metadata": {},
   "outputs": [
    {
     "data": {
      "text/plain": [
       "(344,)"
      ]
     },
     "execution_count": 9,
     "metadata": {},
     "output_type": "execute_result"
    }
   ],
   "source": [
    "y.shape"
   ]
  },
  {
   "cell_type": "markdown",
   "metadata": {},
   "source": [
    "# SVC with poly"
   ]
  },
  {
   "cell_type": "code",
   "execution_count": 11,
   "metadata": {},
   "outputs": [
    {
     "name": "stderr",
     "output_type": "stream",
     "text": [
      "100%|██████████| 10/10 [06:08<00:00, 36.82s/it]"
     ]
    },
    {
     "name": "stdout",
     "output_type": "stream",
     "text": [
      "0.6229 +\\- 0.0775\n",
      "CPU times: user 6min 8s, sys: 18.2 ms, total: 6min 8s\n",
      "Wall time: 6min 8s\n"
     ]
    },
    {
     "name": "stderr",
     "output_type": "stream",
     "text": [
      "\n"
     ]
    }
   ],
   "source": [
    "%%time\n",
    "accuracies = []\n",
    "for i in tqdm(range(10)):\n",
    "    X_train, X_test, y_train, y_test = tts(X, y, test_size=0.1, random_state=None)\n",
    "    scaler = StandardScaler().fit(X_train)\n",
    "    X_train = scaler.transform(X_train)\n",
    "    X_test = scaler.transform(X_test)\n",
    "    clf = SVC(C=100.0, kernel='poly', degree=3, gamma=1.0)\n",
    "    clf.fit(X_train, y_train)\n",
    "    accuracies.append(acc(y_pred=clf.predict(X_test), y_true=y_test))\n",
    "print(\"{:.4f} +\\- {:.4f}\".format(np.mean(accuracies), np.std(accuracies)))"
   ]
  },
  {
   "cell_type": "code",
   "execution_count": null,
   "metadata": {},
   "outputs": [
    {
     "name": "stderr",
     "output_type": "stream",
     "text": [
      " 60%|██████    | 6/10 [03:19<02:03, 30.78s/it]"
     ]
    }
   ],
   "source": [
    "%%time\n",
    "# Return the cell above\n",
    "accuracies = []\n",
    "for i in tqdm(range(10)):\n",
    "    X_train, X_test, y_train, y_test = tts(X, y, test_size=0.1, random_state=None)\n",
    "    scaler = StandardScaler().fit(X_train)\n",
    "    X_train = scaler.transform(X_train)\n",
    "    X_test = scaler.transform(X_test)\n",
    "    clf = SVC(C=100.0, kernel='poly', degree=3, gamma=1.0)\n",
    "    clf.fit(X_train, y_train)\n",
    "    accuracies.append(acc(y_pred=clf.predict(X_test), y_true=y_test))\n",
    "print(\"{:.4f} +\\- {:.4f}\".format(np.mean(accuracies), np.std(accuracies)))"
   ]
  },
  {
   "cell_type": "markdown",
   "metadata": {},
   "source": [
    "## KFold"
   ]
  },
  {
   "cell_type": "code",
   "execution_count": 15,
   "metadata": {},
   "outputs": [
    {
     "name": "stderr",
     "output_type": "stream",
     "text": [
      "10it [00:49,  5.00s/it]"
     ]
    },
    {
     "name": "stdout",
     "output_type": "stream",
     "text": [
      "0.5637 +\\- 0.0668\n",
      "CPU times: user 50 s, sys: 6.66 ms, total: 50 s\n",
      "Wall time: 50 s\n"
     ]
    },
    {
     "name": "stderr",
     "output_type": "stream",
     "text": [
      "\n"
     ]
    }
   ],
   "source": [
    "%%time \n",
    "accuracies = []\n",
    "kf = KFold(n_splits=10, random_state=None, shuffle=True)\n",
    "for train_idx, test_idx in tqdm(kf.split(X)):\n",
    "    X_train, X_test = X[train_idx], X[test_idx]\n",
    "    y_train, y_test = y[train_idx], y[test_idx]\n",
    "    scaler = StandardScaler().fit(X_train)\n",
    "    X_train = scaler.transform(X_train)\n",
    "    X_test = scaler.transform(X_test)\n",
    "    clf = SVC(C=100.0, kernel='poly', degree=2, gamma=1.0)\n",
    "    clf.fit(X_train, y_train)\n",
    "    accuracies.append(acc(y_pred=clf.predict(X_test), y_true=y_test))\n",
    "print(\"{:.4f} +\\- {:.4f}\".format(np.mean(accuracies), np.std(accuracies)))"
   ]
  },
  {
   "cell_type": "code",
   "execution_count": 21,
   "metadata": {},
   "outputs": [
    {
     "name": "stderr",
     "output_type": "stream",
     "text": [
      "10it [04:58, 29.82s/it]"
     ]
    },
    {
     "name": "stdout",
     "output_type": "stream",
     "text": [
      "0.5522 +\\- 0.0520\n",
      "CPU times: user 4min 57s, sys: 16.5 ms, total: 4min 57s\n",
      "Wall time: 4min 58s\n"
     ]
    },
    {
     "name": "stderr",
     "output_type": "stream",
     "text": [
      "\n"
     ]
    }
   ],
   "source": [
    "%%time \n",
    "accuracies = []\n",
    "kf = KFold(n_splits=10, random_state=None, shuffle=True)\n",
    "for train_idx, test_idx in tqdm(kf.split(X)):\n",
    "    X_train, X_test = X[train_idx], X[test_idx]\n",
    "    y_train, y_test = y[train_idx], y[test_idx]\n",
    "    scaler = StandardScaler().fit(X_train)\n",
    "    X_train = scaler.transform(X_train)\n",
    "    X_test = scaler.transform(X_test)\n",
    "    clf = SVC(C=100.0, kernel='poly', degree=3, gamma=1.0)\n",
    "    clf.fit(X_train, y_train)\n",
    "    accuracies.append(acc(y_pred=clf.predict(X_test), y_true=y_test))\n",
    "print(\"{:.4f} +\\- {:.4f}\".format(np.mean(accuracies), np.std(accuracies)))"
   ]
  },
  {
   "cell_type": "code",
   "execution_count": null,
   "metadata": {},
   "outputs": [],
   "source": []
  }
 ],
 "metadata": {
  "kernelspec": {
   "display_name": "Python 3",
   "language": "python",
   "name": "python3"
  },
  "language_info": {
   "codemirror_mode": {
    "name": "ipython",
    "version": 3
   },
   "file_extension": ".py",
   "mimetype": "text/x-python",
   "name": "python",
   "nbconvert_exporter": "python",
   "pygments_lexer": "ipython3",
   "version": "3.6.6"
  }
 },
 "nbformat": 4,
 "nbformat_minor": 2
}
