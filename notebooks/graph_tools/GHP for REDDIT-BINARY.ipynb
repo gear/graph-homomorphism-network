{
 "cells": [
  {
   "cell_type": "code",
   "execution_count": 6,
   "metadata": {},
   "outputs": [],
   "source": [
    "import sys\n",
    "import os\n",
    "sys.path.append('..')\n",
    "from utils import load_data, nx2gt\n",
    "from graph_tool.all import motifs, Graph\n",
    "import networkx as nx\n",
    "import numpy as np\n",
    "from random import shuffle"
   ]
  },
  {
   "cell_type": "markdown",
   "metadata": {},
   "source": [
    "# Load REDDIT-BINARY"
   ]
  },
  {
   "cell_type": "code",
   "execution_count": 3,
   "metadata": {},
   "outputs": [
    {
     "name": "stdout",
     "output_type": "stream",
     "text": [
      "loading data\n",
      "# classes: 2\n",
      "# maximum node tag: 1\n",
      "# data: 2000\n"
     ]
    }
   ],
   "source": [
    "reddit_graphs = load_data(\"REDDITBINARY\", degree_as_tag=False)"
   ]
  },
  {
   "cell_type": "markdown",
   "metadata": {},
   "source": [
    "# Test counting trees"
   ]
  },
  {
   "cell_type": "code",
   "execution_count": 7,
   "metadata": {},
   "outputs": [],
   "source": [
    "test_g = nx2gt(reddit_graphs[0][0].g)\n",
    "# Workaround to allow parallel motifs\n",
    "idx = test_g.vertex_index.copy(\"int\")\n",
    "shuffle(idx.a)\n",
    "test_g = Graph(test_g, vorder=idx)"
   ]
  },
  {
   "cell_type": "code",
   "execution_count": 8,
   "metadata": {},
   "outputs": [],
   "source": [
    "trees_5 = [nx2gt(f) for f in nx.generators.nonisomorphic_trees(5)]"
   ]
  },
  {
   "cell_type": "code",
   "execution_count": 9,
   "metadata": {},
   "outputs": [
    {
     "data": {
      "text/plain": [
       "3"
      ]
     },
     "execution_count": 9,
     "metadata": {},
     "output_type": "execute_result"
    }
   ],
   "source": [
    "len(trees_5)"
   ]
  },
  {
   "cell_type": "code",
   "execution_count": 11,
   "metadata": {},
   "outputs": [
    {
     "name": "stdout",
     "output_type": "stream",
     "text": [
      "CPU times: user 29.2 s, sys: 29.6 ms, total: 29.3 s\n",
      "Wall time: 29.2 s\n"
     ]
    },
    {
     "data": {
      "text/plain": [
       "([<Graph object, undirected, with 5 vertices and 4 edges at 0x7f70415f2b70>,\n",
       "  <Graph object, undirected, with 5 vertices and 4 edges at 0x7f70415f2a20>,\n",
       "  <Graph object, undirected, with 5 vertices and 4 edges at 0x7f70415f2940>],\n",
       " [10622826, 491335, 8971])"
      ]
     },
     "execution_count": 11,
     "metadata": {},
     "output_type": "execute_result"
    }
   ],
   "source": [
    "%%time\n",
    "motifs(g=test_g, k=5, p=1.0, motif_list=trees_5)"
   ]
  },
  {
   "cell_type": "code",
   "execution_count": 8,
   "metadata": {},
   "outputs": [],
   "source": [
    "trees_6 = [nx2gt(f) for f in nx.generators.nonisomorphic_trees(6)]"
   ]
  },
  {
   "cell_type": "code",
   "execution_count": 9,
   "metadata": {},
   "outputs": [
    {
     "data": {
      "text/plain": [
       "6"
      ]
     },
     "execution_count": 9,
     "metadata": {},
     "output_type": "execute_result"
    }
   ],
   "source": [
    "len(trees_6)"
   ]
  },
  {
   "cell_type": "code",
   "execution_count": 10,
   "metadata": {},
   "outputs": [
    {
     "name": "stdout",
     "output_type": "stream",
     "text": [
      "CPU times: user 5min 33s, sys: 3.96 s, total: 5min 37s\n",
      "Wall time: 5min 36s\n"
     ]
    },
    {
     "data": {
      "text/plain": [
       "([<Graph object, undirected, with 6 vertices and 5 edges at 0x7f57000c2da0>],\n",
       " [10471])"
      ]
     },
     "execution_count": 10,
     "metadata": {},
     "output_type": "execute_result"
    }
   ],
   "source": [
    "%%time\n",
    "motifs(g=test_g, k=6, p=1.0, motif_list=[trees_6[0]])"
   ]
  },
  {
   "cell_type": "markdown",
   "metadata": {},
   "source": [
    "# Build Homomorphism profile"
   ]
  },
  {
   "cell_type": "code",
   "execution_count": 12,
   "metadata": {},
   "outputs": [],
   "source": [
    "trees_2 = [nx2gt(f) for f in nx.generators.nonisomorphic_trees(2)] # <1 sec\n",
    "trees_3 = [nx2gt(f) for f in nx.generators.nonisomorphic_trees(3)] # <1 sec\n",
    "trees_4 = [nx2gt(f) for f in nx.generators.nonisomorphic_trees(4)] # 1 sec per tree\n",
    "trees_5 = [nx2gt(f) for f in nx.generators.nonisomorphic_trees(5)] # 12 sec per tree\n",
    "trees_6 = [nx2gt(f) for f in nx.generators.nonisomorphic_trees(6)] # 5 min per tree"
   ]
  },
  {
   "cell_type": "code",
   "execution_count": 13,
   "metadata": {},
   "outputs": [],
   "source": [
    "all_trees = (trees_2, trees_3, trees_4, trees_5)"
   ]
  },
  {
   "cell_type": "code",
   "execution_count": 14,
   "metadata": {},
   "outputs": [
    {
     "data": {
      "text/plain": [
       "2000"
      ]
     },
     "execution_count": 14,
     "metadata": {},
     "output_type": "execute_result"
    }
   ],
   "source": [
    "len(reddit_graphs[0])"
   ]
  },
  {
   "cell_type": "code",
   "execution_count": null,
   "metadata": {},
   "outputs": [],
   "source": [
    "%%time\n",
    "# This one should run in 16-20 hrs\n",
    "X = []\n",
    "y = []\n",
    "for g in reddit_graphs[0]:\n",
    "    gt = nx2gt(g.g)\n",
    "    profile = []\n",
    "    for i, trees in enumerate(all_trees):\n",
    "        profile.extend(motifs(g=gt, k=i+2, p=1.0, motif_list=trees)[1])\n",
    "    X.append(profile)\n",
    "    y.append(g.label)"
   ]
  },
  {
   "cell_type": "code",
   "execution_count": null,
   "metadata": {},
   "outputs": [],
   "source": []
  }
 ],
 "metadata": {
  "kernelspec": {
   "display_name": "Python 3",
   "language": "python",
   "name": "python3"
  },
  "language_info": {
   "codemirror_mode": {
    "name": "ipython",
    "version": 3
   },
   "file_extension": ".py",
   "mimetype": "text/x-python",
   "name": "python",
   "nbconvert_exporter": "python",
   "pygments_lexer": "ipython3",
   "version": "3.6.6"
  }
 },
 "nbformat": 4,
 "nbformat_minor": 2
}
